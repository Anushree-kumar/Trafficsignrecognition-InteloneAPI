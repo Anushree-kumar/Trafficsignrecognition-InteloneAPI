{
 "cells": [
  {
   "cell_type": "markdown",
   "id": "e0147175",
   "metadata": {},
   "source": [
    "<h1 align=\"left\"><font color='red'><b>TRAFFIC SIGN RECOGNITION</b></font></h1>"
   ]
  },
  {
   "cell_type": "markdown",
   "id": "ae062ea5",
   "metadata": {},
   "source": [
    "<h2 align=\"left\"> <font color='lavander'>Import neccessary libraries</font></h2>"
   ]
  },
  {
   "cell_type": "code",
   "execution_count": 4,
   "id": "2dfa93b6",
   "metadata": {},
   "outputs": [],
   "source": [
    "import numpy as np\n",
    "import pandas as pd\n",
    "import tensorflow as tl\n",
    "from PIL import Image\n",
    "import os\n",
    "os.chdir(\"C:/Users/AnuShree.k/OneDrive/Desktop/DL\")"
   ]
  },
  {
   "cell_type": "code",
   "execution_count": 5,
   "id": "6b2a31e2",
   "metadata": {},
   "outputs": [],
   "source": [
    "from sklearn.model_selection import train_test_split\n",
    "from keras.utils import to_categorical\n",
    "from keras.models import Sequential , load_model\n",
    "from keras.layers import Conv2D , Dense , Flatten , Dropout "
   ]
  },
  {
   "cell_type": "markdown",
   "id": "4baa3f9c",
   "metadata": {},
   "source": [
    "<h2 align=\"left\"> <font color='lavander'>Explore the dataset</font></h2>"
   ]
  },
  {
   "cell_type": "code",
   "execution_count": 6,
   "id": "b93046f0",
   "metadata": {},
   "outputs": [],
   "source": [
    "data=[]\n",
    "labels= []\n",
    "classes = 43\n",
    "cur_path = os.getcwd()"
   ]
  },
  {
   "cell_type": "code",
   "execution_count": 7,
   "id": "f6d6a6f2",
   "metadata": {},
   "outputs": [
    {
     "data": {
      "text/plain": [
       "'C:\\\\Users\\\\AnuShree.k\\\\OneDrive\\\\Desktop\\\\DL'"
      ]
     },
     "execution_count": 7,
     "metadata": {},
     "output_type": "execute_result"
    }
   ],
   "source": [
    "cur_path"
   ]
  },
  {
   "cell_type": "markdown",
   "id": "7e90bd16",
   "metadata": {},
   "source": [
    "<h2 align=\"left\"> <font color='lavander'>Preprocess the images</font></h2>"
   ]
  },
  {
   "cell_type": "code",
   "execution_count": 8,
   "id": "6b5a16d9",
   "metadata": {},
   "outputs": [],
   "source": [
    "for i in range(classes):\n",
    "    path = os.path.join(cur_path,'train',str(i))\n",
    "    images = os.listdir(path)\n",
    "    for a in images:\n",
    "        try:\n",
    "            image = Image.open(path + '\\\\'+ a)\n",
    "            image = image.resize((30,30))\n",
    "            image = np.array(image)\n",
    "            data.append(image)\n",
    "            labels.append(i)\n",
    "        except Exception as e:\n",
    "            print(e)"
   ]
  },
  {
   "cell_type": "markdown",
   "id": "8a6e5a3d",
   "metadata": {},
   "source": [
    "<h2 align=\"left\"> <font color='lavander'>Convert list to numpy arrays</font></h2>"
   ]
  },
  {
   "cell_type": "code",
   "execution_count": 9,
   "id": "e8018f7f",
   "metadata": {},
   "outputs": [],
   "source": [
    "data = np.array(data)\n",
    "labels = np.array(labels)"
   ]
  },
  {
   "cell_type": "markdown",
   "id": "4e0fb805",
   "metadata": {},
   "source": [
    "<h2 align=\"left\"> <font color='lavander'>Save and label data</font></h2>"
   ]
  },
  {
   "cell_type": "code",
   "execution_count": 10,
   "id": "4b326570",
   "metadata": {},
   "outputs": [],
   "source": [
    "np.save('./training/data',data)\n",
    "np.save('./training/target',labels)"
   ]
  },
  {
   "cell_type": "markdown",
   "id": "ea635a45",
   "metadata": {},
   "source": [
    "<h2 align=\"left\"> <font color='lavander'>Load data and labels</font></h2>"
   ]
  },
  {
   "cell_type": "code",
   "execution_count": 11,
   "id": "e7471aa5",
   "metadata": {},
   "outputs": [],
   "source": [
    "data=np.load('./training/data.npy')\n",
    "labels=np.load('./training/target.npy')"
   ]
  },
  {
   "cell_type": "code",
   "execution_count": 12,
   "id": "21e5b48a",
   "metadata": {},
   "outputs": [
    {
     "name": "stdout",
     "output_type": "stream",
     "text": [
      "(39209, 30, 30, 3) (39209,)\n"
     ]
    }
   ],
   "source": [
    "print(data.shape,labels.shape)"
   ]
  },
  {
   "cell_type": "code",
   "execution_count": 13,
   "id": "8a372d5e",
   "metadata": {},
   "outputs": [],
   "source": [
    "X_train , X_test , y_train , y_test = train_test_split(data , labels , test_size= 0.2)"
   ]
  },
  {
   "cell_type": "code",
   "execution_count": 14,
   "id": "e4498adb",
   "metadata": {},
   "outputs": [
    {
     "name": "stdout",
     "output_type": "stream",
     "text": [
      "(31367, 30, 30, 3) (7842, 30, 30, 3) (31367,) (7842,)\n"
     ]
    }
   ],
   "source": [
    "print(X_train.shape , X_test.shape , y_train.shape , y_test.shape)"
   ]
  },
  {
   "cell_type": "markdown",
   "id": "a04cc289",
   "metadata": {},
   "source": [
    "<h2 align=\"left\"> <font color='lavander'>Onehot encoding</font></h2>"
   ]
  },
  {
   "cell_type": "code",
   "execution_count": 15,
   "id": "a37cd554",
   "metadata": {},
   "outputs": [],
   "source": [
    "y_train = to_categorical(y_train , 43)\n",
    "y_test = to_categorical(y_test , 43)"
   ]
  },
  {
   "cell_type": "markdown",
   "id": "73bd8713",
   "metadata": {},
   "source": [
    "<h2 align=\"left\"> <font color='lavander'>Build a CNN model</font></h2>"
   ]
  },
  {
   "cell_type": "code",
   "execution_count": 16,
   "id": "4efcb893",
   "metadata": {},
   "outputs": [],
   "source": [
    "#build model\n",
    "model=Sequential()"
   ]
  },
  {
   "cell_type": "code",
   "execution_count": 17,
   "id": "e0148187",
   "metadata": {},
   "outputs": [],
   "source": [
    "model.add(Conv2D ( filters=32, kernel_size=(5,5), activation='relu', input_shape=X_train.shape[1:]))\n",
    "model.add(Conv2D(filters=32, kernel_size=(5,5), activation='relu'))\n",
    "\n",
    "model.add(Dropout(rate=0.25))\n",
    "model.add(Conv2D(filters=64, kernel_size=(3, 3), activation='relu'))\n",
    "model.add(Conv2D(filters=64, kernel_size=(3, 3), activation='relu'))\n",
    "\n",
    "model.add(Dropout(rate=0.25))\n",
    "model.add(Flatten())\n",
    "model.add(Dense(256, activation='relu'))\n",
    "model.add(Dropout(rate=0.5))\n",
    "model.add(Dense(43, activation='softmax'))"
   ]
  },
  {
   "cell_type": "code",
   "execution_count": 18,
   "id": "ffaf3041",
   "metadata": {},
   "outputs": [],
   "source": [
    "#Compilation of the model\n",
    "model.compile(loss='categorical_crossentropy', optimizer='adam', metrics=['accuracy'])"
   ]
  },
  {
   "cell_type": "markdown",
   "id": "1efd6bbd",
   "metadata": {},
   "source": [
    "<h2 align=\"left\"> <font color='lavander'>Train the model</font></h2>"
   ]
  },
  {
   "cell_type": "code",
   "execution_count": 85,
   "id": "abf000fc",
   "metadata": {},
   "outputs": [
    {
     "name": "stdout",
     "output_type": "stream",
     "text": [
      "Epoch 1/15\n",
      "1046/1046 [==============================] - 137s 126ms/step - loss: 1.1703 - accuracy: 0.7349 - val_loss: 0.1855 - val_accuracy: 0.9582\n",
      "Epoch 2/15\n",
      "1046/1046 [==============================] - 127s 122ms/step - loss: 0.3156 - accuracy: 0.9111 - val_loss: 0.1022 - val_accuracy: 0.9735\n",
      "Epoch 3/15\n",
      "1046/1046 [==============================] - 126s 120ms/step - loss: 0.2351 - accuracy: 0.9323 - val_loss: 0.1303 - val_accuracy: 0.9657\n",
      "Epoch 4/15\n",
      "1046/1046 [==============================] - 128s 122ms/step - loss: 0.1960 - accuracy: 0.9421 - val_loss: 0.1187 - val_accuracy: 0.9680\n",
      "Epoch 5/15\n",
      "1046/1046 [==============================] - 131s 125ms/step - loss: 0.1834 - accuracy: 0.9461 - val_loss: 0.0782 - val_accuracy: 0.9809\n",
      "Epoch 6/15\n",
      "1046/1046 [==============================] - 128s 122ms/step - loss: 0.1636 - accuracy: 0.9525 - val_loss: 0.0705 - val_accuracy: 0.9828\n",
      "Epoch 7/15\n",
      "1046/1046 [==============================] - 127s 122ms/step - loss: 0.1491 - accuracy: 0.9550 - val_loss: 0.0674 - val_accuracy: 0.9856\n",
      "Epoch 8/15\n",
      "1046/1046 [==============================] - 128s 122ms/step - loss: 0.1375 - accuracy: 0.9601 - val_loss: 0.0847 - val_accuracy: 0.9783\n",
      "Epoch 9/15\n",
      "1046/1046 [==============================] - 127s 121ms/step - loss: 0.1297 - accuracy: 0.9615 - val_loss: 0.0530 - val_accuracy: 0.9871\n",
      "Epoch 10/15\n",
      "1046/1046 [==============================] - 129s 124ms/step - loss: 0.1159 - accuracy: 0.9658 - val_loss: 0.0549 - val_accuracy: 0.9880\n",
      "Epoch 11/15\n",
      "1046/1046 [==============================] - 129s 123ms/step - loss: 0.1148 - accuracy: 0.9652 - val_loss: 0.0696 - val_accuracy: 0.9841\n",
      "Epoch 12/15\n",
      "1046/1046 [==============================] - 128s 122ms/step - loss: 0.1082 - accuracy: 0.9688 - val_loss: 0.0675 - val_accuracy: 0.9848\n",
      "Epoch 13/15\n",
      "1046/1046 [==============================] - 128s 123ms/step - loss: 0.1041 - accuracy: 0.9697 - val_loss: 0.0932 - val_accuracy: 0.9764\n",
      "Epoch 14/15\n",
      "1046/1046 [==============================] - 127s 121ms/step - loss: 0.0935 - accuracy: 0.9725 - val_loss: 0.0522 - val_accuracy: 0.9916\n",
      "Epoch 15/15\n",
      "1046/1046 [==============================] - 124s 119ms/step - loss: 0.1084 - accuracy: 0.9686 - val_loss: 0.0527 - val_accuracy: 0.9876\n"
     ]
    }
   ],
   "source": [
    "epochs = 15\n",
    "\n",
    "hist_tf = model.fit(X_train, y_train, batch_size=30, epochs=epochs, validation_data=(X_test, y_test))\n"
   ]
  },
  {
   "cell_type": "code",
   "execution_count": 19,
   "id": "c34cb6e2",
   "metadata": {},
   "outputs": [],
   "source": [
    "model.save(\"my_model.h5\")"
   ]
  }
 ],
 "metadata": {
  "kernelspec": {
   "display_name": "Python 3 (ipykernel)",
   "language": "python",
   "name": "python3"
  },
  "language_info": {
   "codemirror_mode": {
    "name": "ipython",
    "version": 3
   },
   "file_extension": ".py",
   "mimetype": "text/x-python",
   "name": "python",
   "nbconvert_exporter": "python",
   "pygments_lexer": "ipython3",
   "version": "3.9.13"
  }
 },
 "nbformat": 4,
 "nbformat_minor": 5
}
