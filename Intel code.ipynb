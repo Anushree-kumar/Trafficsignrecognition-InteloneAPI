{
 "cells": [
  {
   "cell_type": "markdown",
   "id": "9a2d2e75-e3cd-41e6-af1f-00443c1403ff",
   "metadata": {},
   "source": [
    "<h1 align=\"left\"><font color='red'><b>TRAFFIC SIGN RECOGNITION</b></font></h1>"
   ]
  },
  {
   "cell_type": "markdown",
   "id": "9abc2a33-30bf-4632-b4c0-1f90908b20d0",
   "metadata": {},
   "source": [
    "<h2 align=\"left\"> <font color='lavander'>Import neccessary libraries</font></h2>"
   ]
  },
  {
   "cell_type": "code",
   "execution_count": null,
   "id": "92c17fa8-bd44-478c-ad07-4ac93021c27c",
   "metadata": {},
   "outputs": [],
   "source": [
    "import pandas as pd\n",
    "import numpy as np\n",
    "from sklearn.metrics import accuracy_score,confusion_matrix"
   ]
  },
  {
   "cell_type": "code",
   "execution_count": null,
   "id": "f731425b-ead2-4525-9a33-f29783b8ace9",
   "metadata": {},
   "outputs": [
    {
     "name": "stderr",
     "output_type": "stream",
     "text": [
      "2023-04-22 00:38:34.809646: I tensorflow/tsl/cuda/cudart_stub.cc:28] Could not find cuda drivers on your machine, GPU will not be used.\n",
      "2023-04-22 00:38:34.849315: I tensorflow/tsl/cuda/cudart_stub.cc:28] Could not find cuda drivers on your machine, GPU will not be used.\n",
      "2023-04-22 00:38:34.850252: I tensorflow/core/platform/cpu_feature_guard.cc:182] This TensorFlow binary is optimized to use available CPU instructions in performance-critical operations.\n",
      "To enable the following instructions: AVX2 AVX512F FMA, in other operations, rebuild TensorFlow with the appropriate compiler flags.\n",
      "2023-04-22 00:38:39.551040: W tensorflow/compiler/tf2tensorrt/utils/py_utils.cc:38] TF-TRT Warning: Could not find TensorRT\n"
     ]
    }
   ],
   "source": [
    "import tensorflow as tf\n",
    "from tensorflow.keras.layers import Dense, GlobalAveragePooling2D\n",
    "from tensorflow.keras.models import Model\n",
    "from tensorflow.keras.optimizers import Adam\n",
    "from tensorflow.keras.preprocessing.image import ImageDataGenerator\n",
    "from tensorflow.keras.preprocessing import image"
   ]
  },
  {
   "cell_type": "markdown",
   "id": "06ebd699-98a4-4dfd-8909-df2680caecd7",
   "metadata": {},
   "source": [
    "<h2 align=\"left\"> <font color='lavander'>Generate train image data</font></h2>"
   ]
  },
  {
   "cell_type": "code",
   "execution_count": null,
   "id": "22702b6f-4f51-460f-87e7-0dcd4a2435b2",
   "metadata": {},
   "outputs": [],
   "source": [
    "train_datagen = ImageDataGenerator(\n",
    "    rescale=1./255,\n",
    "    shear_range=0.2,\n",
    "    zoom_range=0.2,\n",
    "    horizontal_flip=True)\n",
    "\n",
    "train_labels = pd.read_csv('train_data/_annotations.csv')\n",
    "\n",
    "train_labels['class'] = train_labels['class'].astype(str)\n",
    "train_generator = train_datagen.flow_from_dataframe(\n",
    "    train_labels,\n",
    "    directory='train_data',\n",
    "    x_col='filename',\n",
    "    y_col='class',\n",
    "    target_size=(224, 224),\n",
    "    batch_size=32,\n",
    "    class_mode='categorical')"
   ]
  },
  {
   "cell_type": "markdown",
   "id": "45f7f18f-cbe7-45b7-a77e-0ed170e70a07",
   "metadata": {},
   "source": [
    "<h2 align=\"left\"> <font color='lavander'>Pre trained model - ResNet50</font></h2>"
   ]
  },
  {
   "cell_type": "code",
   "execution_count": null,
   "id": "2612ffa5-b4e3-43a9-9fe5-2e17dbcd926f",
   "metadata": {},
   "outputs": [
    {
     "name": "stdout",
     "output_type": "stream",
     "text": [
      "Downloading data from https://storage.googleapis.com/tensorflow/keras-applications/resnet/resnet50_weights_tf_dim_ordering_tf_kernels_notop.h5\n",
      "94765736/94765736 [==============================] - 23s 0us/step\n"
     ]
    },
    {
     "name": "stderr",
     "output_type": "stream",
     "text": [
      "2023-04-20 22:08:07.649609: I tensorflow/core/common_runtime/executor.cc:1197] [/device:CPU:0] (DEBUG INFO) Executor start aborting (this does not indicate an error and you can ignore this message): INVALID_ARGUMENT: You must feed a value for placeholder tensor 'Placeholder/_0' with dtype int32\n",
      "\t [[{{node Placeholder/_0}}]]\n"
     ]
    },
    {
     "name": "stdout",
     "output_type": "stream",
     "text": [
      "Epoch 1/20\n",
      "3/3 [==============================] - 6s 1s/step - loss: 0.4196 - accuracy: 0.8571\n",
      "Epoch 2/20\n",
      "3/3 [==============================] - 4s 1s/step - loss: 0.4198 - accuracy: 0.8571\n",
      "Epoch 3/20\n",
      "3/3 [==============================] - 4s 992ms/step - loss: 0.4113 - accuracy: 0.8571\n",
      "Epoch 4/20\n",
      "3/3 [==============================] - 4s 953ms/step - loss: 0.4145 - accuracy: 0.8571\n",
      "Epoch 5/20\n",
      "3/3 [==============================] - 4s 1s/step - loss: 0.4107 - accuracy: 0.8571\n",
      "Epoch 6/20\n",
      "3/3 [==============================] - 3s 950ms/step - loss: 0.4122 - accuracy: 0.8571\n",
      "Epoch 7/20\n",
      "3/3 [==============================] - 4s 1s/step - loss: 0.4108 - accuracy: 0.8571\n",
      "Epoch 8/20\n",
      "3/3 [==============================] - 4s 1s/step - loss: 0.4110 - accuracy: 0.8571\n",
      "Epoch 9/20\n",
      "3/3 [==============================] - 3s 1s/step - loss: 0.4107 - accuracy: 0.8571\n",
      "Epoch 10/20\n",
      "3/3 [==============================] - 4s 1s/step - loss: 0.4105 - accuracy: 0.8571\n",
      "Epoch 11/20\n",
      "3/3 [==============================] - 4s 924ms/step - loss: 0.4106 - accuracy: 0.8571\n",
      "Epoch 12/20\n",
      "3/3 [==============================] - 4s 1s/step - loss: 0.4103 - accuracy: 0.8571\n",
      "Epoch 13/20\n",
      "3/3 [==============================] - 3s 985ms/step - loss: 0.4103 - accuracy: 0.8571\n",
      "Epoch 14/20\n",
      "3/3 [==============================] - 4s 1s/step - loss: 0.4102 - accuracy: 0.8571\n",
      "Epoch 15/20\n",
      "3/3 [==============================] - 4s 1s/step - loss: 0.4103 - accuracy: 0.8571\n",
      "Epoch 16/20\n",
      "3/3 [==============================] - 3s 1s/step - loss: 0.4102 - accuracy: 0.8571\n",
      "Epoch 17/20\n",
      "3/3 [==============================] - 3s 941ms/step - loss: 0.4102 - accuracy: 0.8571\n",
      "Epoch 18/20\n",
      "3/3 [==============================] - 4s 1s/step - loss: 0.4102 - accuracy: 0.8571\n",
      "Epoch 19/20\n",
      "3/3 [==============================] - 3s 935ms/step - loss: 0.4102 - accuracy: 0.8571\n",
      "Epoch 20/20\n",
      "3/3 [==============================] - 4s 1s/step - loss: 0.4102 - accuracy: 0.8571\n"
     ]
    },
    {
     "data": {
      "text/plain": [
       "<keras.callbacks.History at 0x7f2ac0642520>"
      ]
     },
     "execution_count": 12,
     "metadata": {},
     "output_type": "execute_result"
    }
   ],
   "source": [
    "base_model = tf.keras.applications.ResNet50(\n",
    "    include_top=False, weights='imagenet', input_shape=(224, 224, 3))\n",
    "\n",
    "for layer in base_model.layers:\n",
    "    layer.trainable = False\n",
    "\n",
    "# Add new fully connected layers on top of the base model\n",
    "x = base_model.output\n",
    "x = GlobalAveragePooling2D()(x)\n",
    "x = Dense(1024, activation='relu')(x)\n",
    "predictions = Dense(1, activation='sigmoid')(x)\n",
    "\n",
    "# Compile the model with binary cross-entropy loss and Adam optimizer\n",
    "model = Model(inputs=base_model.input, outputs=predictions)\n",
    "\n",
    "#freeze Layers\n",
    "for layer in base_model.layers:\n",
    "    layer.trainable = False\n",
    "\n",
    "model.compile(optimizer=Adam(learning_rate=0.0001), loss='binary_crossentropy',\n",
    "              metrics=['accuracy'])\n",
    "\n",
    "# Train the model\n",
    "model.fit(\n",
    "    train_generator,\n",
    "    steps_per_epoch=train_generator.samples // train_generator.batch_size,\n",
    "    epochs=20)"
   ]
  },
  {
   "cell_type": "code",
   "execution_count": null,
   "id": "27a0d988-776d-4dac-b98b-3cca1a16e96d",
   "metadata": {},
   "outputs": [],
   "source": [
    "t_test_df = pd.read_csv(\"train_data/_annotations.csv\")"
   ]
  },
  {
   "cell_type": "markdown",
   "id": "d8c6dd0f-8999-4ccd-a882-50f35af2da1b",
   "metadata": {},
   "source": [
    "<h2 align=\"left\"> <font color='lavander'>Generate test image data</font></h2>"
   ]
  },
  {
   "cell_type": "code",
   "execution_count": null,
   "id": "b125c64d-25df-499c-8b85-31f1591f8aef",
   "metadata": {},
   "outputs": [
    {
     "name": "stdout",
     "output_type": "stream",
     "text": [
      "Found 118 validated image filenames.\n"
     ]
    },
    {
     "name": "stderr",
     "output_type": "stream",
     "text": [
      "/home/u190385/.local/lib/python3.9/site-packages/keras/preprocessing/image.py:1137: UserWarning: Found 464 invalid image filename(s) in x_col=\"filename\". These filename(s) will be ignored.\n",
      "  warnings.warn(\n",
      "/home/u190385/tmp/ipykernel_3064396/554181950.py:13: UserWarning: `Model.predict_generator` is deprecated and will be removed in a future version. Please use `Model.predict`, which supports generators.\n",
      "  preds = model.predict_generator(t_test_generator, steps=None)\n",
      "2023-04-20 22:09:29.428152: I tensorflow/core/common_runtime/executor.cc:1197] [/device:CPU:0] (DEBUG INFO) Executor start aborting (this does not indicate an error and you can ignore this message): INVALID_ARGUMENT: You must feed a value for placeholder tensor 'Placeholder/_0' with dtype int32\n",
      "\t [[{{node Placeholder/_0}}]]\n"
     ]
    }
   ],
   "source": [
    "t_test_datagen = ImageDataGenerator(rescale=1./255)\n",
    "t_test_generator = t_test_datagen.flow_from_dataframe(\n",
    "    t_test_df,\n",
    "    directory=\"train_data\",\n",
    "    x_col='filename',\n",
    "    y_col=None,\n",
    "    target_size=(224, 224),\n",
    "    batch_size=32,\n",
    "    class_mode=None,\n",
    "    shuffle=False)\n",
    "\n",
    "# Use the trained model to make predictions on the test data\n",
    "preds = model.predict_generator(t_test_generator, steps=None)\n",
    "# Remove any missing filenames from the test CSV file\n",
    "missing_filenames = set(t_test_generator.filenames) - set(t_test_df['filename'])\n",
    "if missing_filenames:\n",
    "    print(f'Removing {len(missing_filenames)} missing filenames from the test CSV file.')\n",
    "    t_test_df = t_test_df[~t_test_df['filename'].isin(missing_filenames)]"
   ]
  },
  {
   "cell_type": "code",
   "execution_count": null,
   "id": "8514f2c9-c38f-491b-a0f1-667796af82fd",
   "metadata": {},
   "outputs": [],
   "source": [
    "li = []\n",
    "for i in preds.ravel():\n",
    "    if i>0.5:\n",
    "        li.append(1)\n",
    "    else:\n",
    "        li.append(0)\n",
    "     \n",
    "# Create a DataFrame with the filenames and predictions\n",
    "df = pd.DataFrame({'filename': t_test_generator.filenames[:len(preds)], 'class': li})\n",
    "\n",
    "test_inst_df=pd.merge(df, t_test_df, on='filename', how='inner')"
   ]
  },
  {
   "cell_type": "markdown",
   "id": "c41e8bd4-86f4-4c52-a37d-238614b5f160",
   "metadata": {},
   "source": [
    "<h2 align=\"left\"> <font color='lavander'>Save the model</font></h2>"
   ]
  },
  {
   "cell_type": "code",
   "execution_count": 17,
   "id": "30070df1-387d-4c64-9629-1dd6a269ef73",
   "metadata": {},
   "outputs": [],
   "source": [
    "model.save('models/resnet.h5')"
   ]
  }
 ],
 "metadata": {
  "kernelspec": {
   "display_name": "Python 3 (Intel® oneAPI 2023.0)",
   "language": "python",
   "name": "c009-intel_distribution_of_python_3_oneapi-beta05-python"
  },
  "language_info": {
   "codemirror_mode": {
    "name": "ipython",
    "version": 3
   },
   "file_extension": ".py",
   "mimetype": "text/x-python",
   "name": "python",
   "nbconvert_exporter": "python",
   "pygments_lexer": "ipython3",
   "version": "3.9.15"
  }
 },
 "nbformat": 4,
 "nbformat_minor": 5
}
